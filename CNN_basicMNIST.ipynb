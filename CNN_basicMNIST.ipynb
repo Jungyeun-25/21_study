{
  "nbformat": 4,
  "nbformat_minor": 0,
  "metadata": {
    "colab": {
      "name": "CNN_MNIST.ipynb",
      "provenance": [],
      "authorship_tag": "ABX9TyNyXd5cB+vZU+9+83mXtOq0",
      "include_colab_link": true
    },
    "kernelspec": {
      "name": "python3",
      "display_name": "Python 3"
    },
    "accelerator": "GPU"
  },
  "cells": [
    {
      "cell_type": "markdown",
      "metadata": {
        "id": "view-in-github",
        "colab_type": "text"
      },
      "source": [
        "<a href=\"https://colab.research.google.com/github/Jungyeun-25/21_study/blob/master/CNN_basicMNIST.ipynb\" target=\"_parent\"><img src=\"https://colab.research.google.com/assets/colab-badge.svg\" alt=\"Open In Colab\"/></a>"
      ]
    },
    {
      "cell_type": "code",
      "metadata": {
        "id": "fR0wVopXrYxE"
      },
      "source": [
        "import tensorflow as tf\r\n",
        "from tensorflow.keras.layers import Dense, Flatten, Conv2D, MaxPool2D, BatchNormalization, Dropout\r\n",
        "from tensorflow.keras import Model"
      ],
      "execution_count": null,
      "outputs": []
    },
    {
      "cell_type": "code",
      "metadata": {
        "id": "a1x-cv8XYFE-"
      },
      "source": [
        "from keras.datasets import cifar100\r\n",
        "# cifar 데이터 불러오기\r\n",
        "(x_train, y_train), (x_test, y_test) = cifar100.load_data()"
      ],
      "execution_count": null,
      "outputs": []
    },
    {
      "cell_type": "code",
      "metadata": {
        "id": "HdDZNRgvYwdI"
      },
      "source": [
        "x_train = tf.image.convert_image_dtype(x_train, tf.float32)\r\n",
        "x_test = tf.image.convert_image_dtype(x_test, tf.float32)"
      ],
      "execution_count": null,
      "outputs": []
    },
    {
      "cell_type": "code",
      "metadata": {
        "id": "8jt9xAbntLxs"
      },
      "source": [
        "# mnist = tf.keras.datasets.mnist\r\n",
        "\r\n",
        "# (x_train,y_train),(x_test,y_test) = mnist.load_data()\r\n",
        "# x_train,x_test = x_train/255.0,x_test/255.0\r\n",
        "\r\n",
        "# x_train = x_train.reshape(-1,28,28,1) # {train data의 개수}*28*28 -> {train data의 개수}*28*28*1 \r\n",
        "# x_test = x_test.reshape(-1,28,28,1)"
      ],
      "execution_count": null,
      "outputs": []
    },
    {
      "cell_type": "code",
      "metadata": {
        "id": "7Oq_cqhstc71"
      },
      "source": [
        "train_dataset = tf.data.Dataset.from_tensor_slices(\r\n",
        "    (x_train,y_train)).shuffle(buffer_size=10000).batch(32)\r\n",
        "\r\n",
        "test_dataset = tf.data.Dataset.from_tensor_slices((x_test,y_test)).batch(32)"
      ],
      "execution_count": null,
      "outputs": []
    },
    {
      "cell_type": "code",
      "metadata": {
        "colab": {
          "base_uri": "https://localhost:8080/"
        },
        "id": "Np9OIikPy42y",
        "outputId": "bb7b0335-541d-4ec2-b55c-61d3ff451a2f"
      },
      "source": [
        "train_dataset"
      ],
      "execution_count": null,
      "outputs": [
        {
          "output_type": "execute_result",
          "data": {
            "text/plain": [
              "<BatchDataset shapes: ((None, 32, 32, 3), (None, 1)), types: (tf.float32, tf.int64)>"
            ]
          },
          "metadata": {
            "tags": []
          },
          "execution_count": 6
        }
      ]
    },
    {
      "cell_type": "code",
      "metadata": {
        "id": "YtQL3jaOy9yJ"
      },
      "source": [
        "class MyModel(Model):\r\n",
        "  def __init__(self):\r\n",
        "    super(MyModel,self).__init__()\r\n",
        "    self.conv1 = Conv2D(filters=32,kernel_size=3,activation='relu')\r\n",
        "    self.flatten = Flatten()\r\n",
        "    self.d1 = Dense(units=128,activation='relu')\r\n",
        "    self.d2 = Dense(units=100,activation='softmax')\r\n",
        "\r\n",
        "  def call(self,x):\r\n",
        "    x = self.conv1(x)\r\n",
        "    x = self.flatten(x)\r\n",
        "    x = self.d1(x)\r\n",
        "    return self.d2(x)\r\n",
        "\r\n",
        "model = MyModel()"
      ],
      "execution_count": null,
      "outputs": []
    },
    {
      "cell_type": "code",
      "metadata": {
        "id": "tcCEOpyH1fu6"
      },
      "source": [
        "lr = 0.01\r\n",
        "loss_object = tf.keras.losses.SparseCategoricalCrossentropy()\r\n",
        "\r\n",
        "optimizer =  tf.keras.optimizers.Adam(learning_rate=lr)"
      ],
      "execution_count": null,
      "outputs": []
    },
    {
      "cell_type": "code",
      "metadata": {
        "id": "wmpsFbgQ5Pbc"
      },
      "source": [
        "train_loss = tf.keras.metrics.Mean(name='train_loss')\r\n",
        "train_accuracy = tf.keras.metrics.SparseCategoricalAccuracy(name='train_accuracy')\r\n",
        "\r\n",
        "test_loss = tf.keras.metrics.Mean(name='test_loss')\r\n",
        "test_accuracy = tf.keras.metrics.SparseCategoricalAccuracy(name='test_accuracy')\r\n",
        "\r\n"
      ],
      "execution_count": null,
      "outputs": []
    },
    {
      "cell_type": "code",
      "metadata": {
        "id": "b_hnj2Qs3JG4"
      },
      "source": [
        "@tf.function\r\n",
        "def train_step(images, labels):\r\n",
        "  with tf.GradientTape() as tape:\r\n",
        "    predictions = model(images)\r\n",
        "    loss = loss_object(labels, predictions)\r\n",
        "  gradients = tape.gradient(loss, model.trainable_variables)\r\n",
        "  optimizer.apply_gradients(zip(gradients, model.trainable_variables))\r\n",
        "\r\n",
        "  train_loss(loss)\r\n",
        "  train_accuracy(labels, predictions)\r\n",
        "  "
      ],
      "execution_count": null,
      "outputs": []
    },
    {
      "cell_type": "code",
      "metadata": {
        "id": "r0fIgyxS7-V7"
      },
      "source": [
        "@tf.function\r\n",
        "def test_step(images, labels):\r\n",
        "  predictions = model(images)\r\n",
        "  t_loss = loss_object(labels, predictions)\r\n",
        "\r\n",
        "  test_loss(t_loss)\r\n",
        "  test_accuracy(labels, predictions)"
      ],
      "execution_count": null,
      "outputs": []
    },
    {
      "cell_type": "code",
      "metadata": {
        "colab": {
          "base_uri": "https://localhost:8080/"
        },
        "id": "te07ThDp65iw",
        "outputId": "5dc20669-894c-45ac-ffd3-549f711422cc"
      },
      "source": [
        "import time\r\n",
        "\r\n",
        "EPOCHS = 5\r\n",
        "\r\n",
        "start = time.time()\r\n",
        "for epoch in range(EPOCHS):\r\n",
        "  for images,labels in train_dataset :\r\n",
        "    train_step(images,labels)\r\n",
        "  \r\n",
        "  for test_images,test_labels in test_dataset:\r\n",
        "    test_step(test_images,test_labels)\r\n",
        "  \r\n",
        "  template = 'EPOCH : {}, LOSS : {:.5f}, ACCURACY : {:.2f}%, test LOSS : {:.5f}, test ACCURACY : {:.2f}%'\r\n",
        "  print (template.format(epoch+1,\r\n",
        "                         train_loss.result(),\r\n",
        "                         train_accuracy.result()*100,\r\n",
        "                         test_loss.result(),\r\n",
        "                         test_accuracy.result()*100))\r\n",
        "  \r\n",
        "print(\"time :\", time.time() - start)"
      ],
      "execution_count": null,
      "outputs": [
        {
          "output_type": "stream",
          "text": [
            "EPOCH : 1, LOSS : 4.62800, ACCURACY : 1.01%, test LOSS : 4.60845, test ACCURACY : 1.00%\n",
            "EPOCH : 2, LOSS : 4.61925, ACCURACY : 0.95%, test LOSS : 4.60875, test ACCURACY : 1.00%\n",
            "EPOCH : 3, LOSS : 4.61643, ACCURACY : 0.93%, test LOSS : 4.60864, test ACCURACY : 1.00%\n",
            "EPOCH : 4, LOSS : 4.61498, ACCURACY : 0.92%, test LOSS : 4.60868, test ACCURACY : 1.00%\n",
            "EPOCH : 5, LOSS : 4.61409, ACCURACY : 0.93%, test LOSS : 4.60873, test ACCURACY : 1.00%\n",
            "time : 23.76604437828064\n"
          ],
          "name": "stdout"
        }
      ]
    },
    {
      "cell_type": "code",
      "metadata": {
        "id": "9au19XbE72ep"
      },
      "source": [
        ""
      ],
      "execution_count": null,
      "outputs": []
    }
  ]
}